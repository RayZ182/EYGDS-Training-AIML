{
 "cells": [
  {
   "cell_type": "code",
   "execution_count": 1,
   "id": "9701dc1d-f815-4b45-8b7a-d3c3ace1bc5e",
   "metadata": {},
   "outputs": [],
   "source": [
    "import pandas as pd\n",
    "import numpy as np\n",
    "import matplotlib.pyplot as plt\n",
    "%matplotlib inline"
   ]
  },
  {
   "cell_type": "code",
   "execution_count": 2,
   "id": "877d9c02-5916-43e2-8e2f-b7584e096f76",
   "metadata": {},
   "outputs": [
    {
     "data": {
      "text/html": [
       "<div>\n",
       "<style scoped>\n",
       "    .dataframe tbody tr th:only-of-type {\n",
       "        vertical-align: middle;\n",
       "    }\n",
       "\n",
       "    .dataframe tbody tr th {\n",
       "        vertical-align: top;\n",
       "    }\n",
       "\n",
       "    .dataframe thead th {\n",
       "        text-align: right;\n",
       "    }\n",
       "</style>\n",
       "<table border=\"1\" class=\"dataframe\">\n",
       "  <thead>\n",
       "    <tr style=\"text-align: right;\">\n",
       "      <th></th>\n",
       "      <th>Month</th>\n",
       "      <th>Product</th>\n",
       "      <th>Units_Sold</th>\n",
       "      <th>Revenue</th>\n",
       "    </tr>\n",
       "  </thead>\n",
       "  <tbody>\n",
       "    <tr>\n",
       "      <th>0</th>\n",
       "      <td>Jan</td>\n",
       "      <td>Mobile</td>\n",
       "      <td>200</td>\n",
       "      <td>300000</td>\n",
       "    </tr>\n",
       "    <tr>\n",
       "      <th>1</th>\n",
       "      <td>Feb</td>\n",
       "      <td>Mobile</td>\n",
       "      <td>220</td>\n",
       "      <td>330000</td>\n",
       "    </tr>\n",
       "    <tr>\n",
       "      <th>2</th>\n",
       "      <td>Mar</td>\n",
       "      <td>Mobile</td>\n",
       "      <td>210</td>\n",
       "      <td>315000</td>\n",
       "    </tr>\n",
       "    <tr>\n",
       "      <th>3</th>\n",
       "      <td>Jan</td>\n",
       "      <td>Laptop</td>\n",
       "      <td>120</td>\n",
       "      <td>600000</td>\n",
       "    </tr>\n",
       "    <tr>\n",
       "      <th>4</th>\n",
       "      <td>Feb</td>\n",
       "      <td>Laptop</td>\n",
       "      <td>135</td>\n",
       "      <td>675000</td>\n",
       "    </tr>\n",
       "    <tr>\n",
       "      <th>5</th>\n",
       "      <td>Mar</td>\n",
       "      <td>Laptop</td>\n",
       "      <td>150</td>\n",
       "      <td>750000</td>\n",
       "    </tr>\n",
       "    <tr>\n",
       "      <th>6</th>\n",
       "      <td>Jan</td>\n",
       "      <td>TV</td>\n",
       "      <td>80</td>\n",
       "      <td>240000</td>\n",
       "    </tr>\n",
       "    <tr>\n",
       "      <th>7</th>\n",
       "      <td>Feb</td>\n",
       "      <td>TV</td>\n",
       "      <td>95</td>\n",
       "      <td>285000</td>\n",
       "    </tr>\n",
       "    <tr>\n",
       "      <th>8</th>\n",
       "      <td>Mar</td>\n",
       "      <td>TV</td>\n",
       "      <td>100</td>\n",
       "      <td>300000</td>\n",
       "    </tr>\n",
       "  </tbody>\n",
       "</table>\n",
       "</div>"
      ],
      "text/plain": [
       "  Month Product  Units_Sold  Revenue\n",
       "0   Jan  Mobile         200   300000\n",
       "1   Feb  Mobile         220   330000\n",
       "2   Mar  Mobile         210   315000\n",
       "3   Jan  Laptop         120   600000\n",
       "4   Feb  Laptop         135   675000\n",
       "5   Mar  Laptop         150   750000\n",
       "6   Jan      TV          80   240000\n",
       "7   Feb      TV          95   285000\n",
       "8   Mar      TV         100   300000"
      ]
     },
     "execution_count": 2,
     "metadata": {},
     "output_type": "execute_result"
    }
   ],
   "source": [
    "# Sales dataset\n",
    "data = {\n",
    "\"Month\": [\"Jan\", \"Feb\", \"Mar\", \"Jan\", \"Feb\", \"Mar\", \"Jan\", \"Feb\", \"Mar\"],\n",
    "\"Product\": [\"Mobile\", \"Mobile\", \"Mobile\", \"Laptop\", \"Laptop\", \"Laptop\", \"TV\",\n",
    "\"TV\", \"TV\"],\n",
    "\"Units_Sold\": [200, 220, 210, 120, 135, 150, 80, 95, 100],\n",
    "\"Revenue\": [300000, 330000, 315000, 600000, 675000, 750000, 240000, 285000,\n",
    "300000]\n",
    "}\n",
    "df = pd.DataFrame(data)\n",
    "df"
   ]
  },
  {
   "cell_type": "code",
   "execution_count": 4,
   "id": "9a398df9-5084-4430-9be8-2091df0ffb21",
   "metadata": {},
   "outputs": [
    {
     "data": {
      "text/plain": [
       "Product\n",
       "Laptop    2025000\n",
       "Mobile     945000\n",
       "TV         825000\n",
       "Name: Revenue, dtype: int64"
      ]
     },
     "execution_count": 4,
     "metadata": {},
     "output_type": "execute_result"
    }
   ],
   "source": [
    "# Task\n",
    "\"\"\" Basic Analysis \"\"\"\n",
    "# Total Revenue per product\n",
    "rev_product = df.groupby(\"Product\")[\"Revenue\"].sum()\n",
    "rev_product"
   ]
  },
  {
   "cell_type": "code",
   "execution_count": 6,
   "id": "4839018d-eef8-457f-ac08-b499d2a1b7a5",
   "metadata": {},
   "outputs": [
    {
     "data": {
      "text/plain": [
       "Product\n",
       "Laptop    135.000000\n",
       "Mobile    210.000000\n",
       "TV         91.666667\n",
       "Name: Units_Sold, dtype: float64"
      ]
     },
     "execution_count": 6,
     "metadata": {},
     "output_type": "execute_result"
    }
   ],
   "source": [
    "# Average unit sold per product\n",
    "avg_product_sold = df.groupby(\"Product\")[\"Units_Sold\"].mean()\n",
    "avg_product_sold"
   ]
  },
  {
   "cell_type": "code",
   "execution_count": 18,
   "id": "cb2e28c7-1868-4f83-a256-1668a064c799",
   "metadata": {},
   "outputs": [
    {
     "name": "stdout",
     "output_type": "stream",
     "text": [
      "Product  Month\n",
      "Laptop   Feb      675000\n",
      "         Jan      600000\n",
      "         Mar      750000\n",
      "Mobile   Feb      330000\n",
      "         Jan      300000\n",
      "         Mar      315000\n",
      "TV       Feb      285000\n",
      "         Jan      240000\n",
      "         Mar      300000\n",
      "Name: Revenue, dtype: int64\n"
     ]
    }
   ],
   "source": [
    "\"\"\" Visualization 1 - Line Chart \"\"\"\n",
    "# Plot monthly Revenue chart for each product (Jan - March)\n",
    "\n",
    "months = df[\"Month\"].unique()\n",
    "prod = df[\"Product\"].unique()\n",
    "rev_prod = df.groupby([\"Product\",\"Month\"])[\"Revenue\"].sum()\n",
    "print(rev_prod)\n"
   ]
  },
  {
   "cell_type": "code",
   "execution_count": 19,
   "id": "05d56948-62b9-4d1e-87f0-4d89a389f55c",
   "metadata": {},
   "outputs": [],
   "source": [
    "mobile_revenue = [300000, 330000, 315000]\n",
    "laptop_revenue = [600000, 675000, 750000]\n",
    "tv_revenue = [240000, 285000, 300000]"
   ]
  },
  {
   "cell_type": "code",
   "execution_count": 20,
   "id": "fc42ff44-8f4e-4130-930f-0c985be6feb8",
   "metadata": {},
   "outputs": [
    {
     "data": {
      "text/plain": [
       "array(['Jan', 'Feb', 'Mar'], dtype=object)"
      ]
     },
     "execution_count": 20,
     "metadata": {},
     "output_type": "execute_result"
    }
   ],
   "source": [
    "months"
   ]
  },
  {
   "cell_type": "code",
   "execution_count": 21,
   "id": "22f20ed6-06ec-47e2-98b1-7cb3bd54e48f",
   "metadata": {},
   "outputs": [
    {
     "data": {
      "image/png": "[encoded data removed]",
      "text/plain": [
       "<Figure size 640x480 with 1 Axes>"
      ]
     },
     "metadata": {},
     "output_type": "display_data"
    }
   ],
   "source": [
    "# Create line chart \n",
    "plt.plot(months, mobile_revenue, label= \"Mobile\")\n",
    "plt.plot(months, laptop_revenue, label= \"Laptop\")\n",
    "plt.plot(months, tv_revenue, label = \"TV\")\n",
    "\n",
    "plt.title('Monthly Revenue Trend (Jan-Mar)')\n",
    "plt.xlabel('Month')\n",
    "plt.ylabel('Revenue')\n",
    "\n",
    "plt.show()"
   ]
  },
  {
   "cell_type": "code",
   "execution_count": 23,
   "id": "8b772d5e-3c78-4daa-b955-6f4b82d2610b",
   "metadata": {},
   "outputs": [
    {
     "data": {
      "text/plain": [
       "Product\n",
       "Laptop    2025000\n",
       "Mobile     945000\n",
       "TV         825000\n",
       "Name: Revenue, dtype: int64"
      ]
     },
     "execution_count": 23,
     "metadata": {},
     "output_type": "execute_result"
    }
   ],
   "source": [
    "\"\"\" Plot a bar chart for total revenue per product \"\"\"\n",
    "\n",
    "revenue_per_prod = df.groupby(\"Product\")[\"Revenue\"].sum()\n",
    "revenue_per_prod"
   ]
  },
  {
   "cell_type": "code",
   "execution_count": 27,
   "id": "3f3fc9a9-cb60-4188-b252-ad1e17299ea5",
   "metadata": {},
   "outputs": [
    {
     "data": {
      "text/plain": [
       "Text(0, 0.5, 'Revenue')"
      ]
     },
     "execution_count": 27,
     "metadata": {},
     "output_type": "execute_result"
    },
    {
     "data": {
      "image/png": "[encoded data removed]",
      "text/plain": [
       "<Figure size 640x480 with 1 Axes>"
      ]
     },
     "metadata": {},
     "output_type": "display_data"
    }
   ],
   "source": [
    "revenue_per_prod.plot(kind = \"bar\", color = \"red\")\n",
    "\n",
    "plt.title('Total revenue per product')\n",
    "plt.xlabel('Product')\n",
    "plt.ylabel('Revenue')"
   ]
  },
  {
   "cell_type": "code",
   "execution_count": 35,
   "id": "1d42bb49-1ecc-4589-b308-98bf003cf159",
   "metadata": {},
   "outputs": [
    {
     "data": {
      "text/plain": [
       "(np.float64(-1.099999047956632),\n",
       " np.float64(1.0999862532380296),\n",
       " np.float64(-1.0999993019096819),\n",
       " np.float64(1.099999966757604))"
      ]
     },
     "execution_count": 35,
     "metadata": {},
     "output_type": "execute_result"
    },
    {
     "data": {
      "image/png": "[encoded data removed]",
      "text/plain": [
       "<Figure size 640x480 with 1 Axes>"
      ]
     },
     "metadata": {},
     "output_type": "display_data"
    }
   ],
   "source": [
    "\"\"\" Plot a pie chart showing the contribution of each product to total\n",
    "revenue. \"\"\"\n",
    "\n",
    "revenue_per_prod.plot(kind = \"pie\", labels = prod, autopct='%1.1f%%', startangle=90, colors=['red','blue','green'])\n",
    "plt.title('Contribution of Each Product to Total Revenue')\n",
    "plt.axis('equal')"
   ]
  },
  {
   "cell_type": "code",
   "execution_count": null,
   "id": "987a5ce3-e0d3-41d2-843e-6a2dc63f4c47",
   "metadata": {},
   "outputs": [],
   "source": []
  }
 ],
 "metadata": {
  "kernelspec": {
   "display_name": "Python 3 (ipykernel)",
   "language": "python",
   "name": "python3"
  },
  "language_info": {
   "codemirror_mode": {
    "name": "ipython",
    "version": 3
   },
   "file_extension": ".py",
   "mimetype": "text/x-python",
   "name": "python",
   "nbconvert_exporter": "python",
   "pygments_lexer": "ipython3",
   "version": "3.11.0"
  }
 },
 "nbformat": 4,
 "nbformat_minor": 5
}
